{
 "cells": [
  {
   "cell_type": "code",
   "execution_count": 2,
   "id": "13c51729-f216-46ac-9025-63aba959a22f",
   "metadata": {},
   "outputs": [
    {
     "name": "stdout",
     "output_type": "stream",
     "text": [
      "True\n"
     ]
    }
   ],
   "source": [
    "def isIsomorphic(s, t):\n",
    "    if len(s) != len(t):\n",
    "        return False\n",
    "\n",
    "    s_to_t = {}\n",
    "    t_to_s = {}\n",
    "\n",
    "    for s_char, t_char in zip(s, t):\n",
    "        if s_char not in s_to_t and t_char not in t_to_s:\n",
    "            s_to_t[s_char] = t_char\n",
    "            t_to_s[t_char] = s_char\n",
    "        elif s_to_t.get(s_char) != t_char or t_to_s.get(t_char) != s_char:\n",
    "            return False\n",
    "\n",
    "    return True\n",
    "s = \"egg\"\n",
    "t = \"add\"\n",
    "\n",
    "print(isIsomorphic(s, t))\n"
   ]
  },
  {
   "cell_type": "code",
   "execution_count": 3,
   "id": "7aae3b29-41e6-4c51-8557-b06b7add598b",
   "metadata": {},
   "outputs": [
    {
     "name": "stdout",
     "output_type": "stream",
     "text": [
      "True\n"
     ]
    }
   ],
   "source": [
    "def isStrobogrammatic(num):\n",
    "    strobogrammatic_pairs = {'0': '0', '1': '1', '6': '9', '8': '8', '9': '6'}\n",
    "    left, right = 0, len(num) - 1\n",
    "\n",
    "    while left <= right:\n",
    "        if num[left] not in strobogrammatic_pairs or num[right] not in strobogrammatic_pairs:\n",
    "            return False\n",
    "        if num[left] != strobogrammatic_pairs[num[right]]:\n",
    "            return False\n",
    "\n",
    "        left += 1\n",
    "        right -= 1\n",
    "\n",
    "    return True\n",
    "num = \"69\"\n",
    "print(isStrobogrammatic(num))\n"
   ]
  },
  {
   "cell_type": "code",
   "execution_count": 4,
   "id": "b2ff2ce1-2ec7-4fc9-98f1-088d9dbbdad3",
   "metadata": {},
   "outputs": [
    {
     "name": "stdout",
     "output_type": "stream",
     "text": [
      "134\n"
     ]
    }
   ],
   "source": [
    "def addStrings(num1, num2):\n",
    "    p1, p2 = len(num1) - 1, len(num2) - 1\n",
    "    carry = 0\n",
    "    result = ''\n",
    "\n",
    "    while p1 >= 0 or p2 >= 0 or carry:\n",
    "        digit1 = int(num1[p1]) if p1 >= 0 else 0\n",
    "        digit2 = int(num2[p2]) if p2 >= 0 else 0\n",
    "        total = digit1 + digit2 + carry\n",
    "\n",
    "        sum_digit = total % 10\n",
    "        carry = total // 10\n",
    "\n",
    "        result = str(sum_digit) + result\n",
    "\n",
    "        p1 -= 1\n",
    "        p2 -= 1\n",
    "\n",
    "    return result\n",
    "num1 = \"11\"\n",
    "num2 = \"123\"\n",
    "print(addStrings(num1, num2))"
   ]
  },
  {
   "cell_type": "code",
   "execution_count": 5,
   "id": "11418ce9-7ee7-4ac9-8038-9bc81e3f807a",
   "metadata": {},
   "outputs": [
    {
     "name": "stdout",
     "output_type": "stream",
     "text": [
      "s'teL ekat edoCteeL tsetnoc\n"
     ]
    }
   ],
   "source": [
    "def reverseWords(s):\n",
    "    words = s.split()\n",
    "    reversed_words = [word[::-1] for word in words]\n",
    "    return ' '.join(reversed_words)\n",
    "s = \"Let's take LeetCode contest\"\n",
    "print(reverseWords(s))"
   ]
  },
  {
   "cell_type": "code",
   "execution_count": 6,
   "id": "d57d8fbb-a826-4be8-817d-0a0341cc839d",
   "metadata": {},
   "outputs": [
    {
     "name": "stdout",
     "output_type": "stream",
     "text": [
      "bacdfeg\n"
     ]
    }
   ],
   "source": [
    "def reverseStr(s, k):\n",
    "    result = \"\"\n",
    "    n = len(s)\n",
    "    i = 0\n",
    "    \n",
    "    while i < n:\n",
    "        # Reverse the first k characters if there are at least k characters remaining\n",
    "        if i + k <= n:\n",
    "            result += s[i:i+k][::-1]\n",
    "        # Reverse all remaining characters\n",
    "        else:\n",
    "            result += s[i:][::-1]\n",
    "        \n",
    "        # Append the next k characters as they are (leave them unchanged)\n",
    "        result += s[i+k:i+2*k]\n",
    "        \n",
    "        i += 2 * k\n",
    "    \n",
    "    return result\n",
    "s = \"abcdefg\"\n",
    "k = 2\n",
    "print(reverseStr(s, k))\n"
   ]
  },
  {
   "cell_type": "code",
   "execution_count": 7,
   "id": "1dc8d8a1-7afa-4d68-bf6e-02c689d4c7c4",
   "metadata": {},
   "outputs": [
    {
     "name": "stdout",
     "output_type": "stream",
     "text": [
      "True\n"
     ]
    }
   ],
   "source": [
    "def rotateString(s, goal):\n",
    "    if len(s) != len(goal):\n",
    "        return False\n",
    "        \n",
    "    concat = s + s\n",
    "    return goal in concat\n",
    "s = \"abcde\"\n",
    "goal = \"cdeab\"\n",
    "print(rotateString(s, goal))"
   ]
  },
  {
   "cell_type": "code",
   "execution_count": 8,
   "id": "1c39da39-9287-4107-9cd7-5ed912b11a4f",
   "metadata": {},
   "outputs": [
    {
     "name": "stdout",
     "output_type": "stream",
     "text": [
      "True\n"
     ]
    }
   ],
   "source": [
    "def backspaceCompare(s, t):\n",
    "    def processString(string):\n",
    "        stack = []\n",
    "        for char in string:\n",
    "            if char != '#':\n",
    "                stack.append(char)\n",
    "            elif stack:\n",
    "                stack.pop()\n",
    "        return stack\n",
    "    \n",
    "    return processString(s) == processString(t)\n",
    "s = \"ab#c\"\n",
    "t = \"ad#c\"\n",
    "print(backspaceCompare(s, t))\n"
   ]
  },
  {
   "cell_type": "code",
   "execution_count": 9,
   "id": "5724972d-b817-43e7-96c8-44f4f2a74402",
   "metadata": {},
   "outputs": [
    {
     "name": "stdout",
     "output_type": "stream",
     "text": [
      "True\n"
     ]
    }
   ],
   "source": [
    "def checkStraightLine(coordinates):\n",
    "    # Calculate the initial slope\n",
    "    x1, y1 = coordinates[0]\n",
    "    x2, y2 = coordinates[1]\n",
    "    initial_slope = (y2 - y1) * (x2 - x1)\n",
    "    \n",
    "    # Check the slope between each pair of consecutive points\n",
    "    for i in range(2, len(coordinates)):\n",
    "        x1, y1 = coordinates[i-1]\n",
    "        x2, y2 = coordinates[i]\n",
    "        slope = (y2 - y1) * (x2 - x1)\n",
    "        \n",
    "        # If the slope is not equal to the initial slope, return False\n",
    "        if slope != initial_slope:\n",
    "            return False\n",
    "    \n",
    "    return True\n",
    "coordinates = [[1,2],[2,3],[3,4],[4,5],[5,6],[6,7]]\n",
    "print(checkStraightLine(coordinates))\n"
   ]
  },
  {
   "cell_type": "code",
   "execution_count": null,
   "id": "c1b44368-ddbc-4202-b147-6caa991bc053",
   "metadata": {},
   "outputs": [],
   "source": []
  }
 ],
 "metadata": {
  "kernelspec": {
   "display_name": "Python 3 (ipykernel)",
   "language": "python",
   "name": "python3"
  },
  "language_info": {
   "codemirror_mode": {
    "name": "ipython",
    "version": 3
   },
   "file_extension": ".py",
   "mimetype": "text/x-python",
   "name": "python",
   "nbconvert_exporter": "python",
   "pygments_lexer": "ipython3",
   "version": "3.10.8"
  }
 },
 "nbformat": 4,
 "nbformat_minor": 5
}
